{
 "cells": [
  {
   "cell_type": "markdown",
   "metadata": {},
   "source": [
    "# Lab Course Machine Learning\n",
    "# Exercise Sheet 8\n",
    "January 5th, 2022\n",
    "\n",
    "Syed Wasif Murtaza Jafri-311226\n",
    "\n",
    "## Exercise 1: Optical Character Recognition via Neural Networks"
   ]
  },
  {
   "cell_type": "code",
   "execution_count": 23,
   "metadata": {},
   "outputs": [],
   "source": [
    "import numpy as np\n",
    "import math\n",
    "import pandas as pd\n",
    "import numpy as np\n",
    "import matplotlib.pyplot as plt\n",
    "from matplotlib import cm\n",
    "from matplotlib.ticker import LinearLocator\n",
    "plt.rcParams['figure.figsize'] = (10 ,8)\n",
    "from sympy import symbols, diff\n",
    "import pandas as pd\n",
    "import math\n",
    "import warnings\n",
    "import itertools\n",
    "warnings.filterwarnings('ignore')\n",
    "import sklearn\n",
    "from sklearn.model_selection import train_test_split\n",
    "from sklearn.datasets import load_digits\n",
    "from sklearn.neural_network import MLPClassifier\n",
    "from sklearn import model_selection\n",
    "from sklearn.model_selection import GridSearchCV\n",
    "from sklearn.linear_model import LinearRegression\n",
    "from sklearn.linear_model import Ridge\n",
    "from sklearn.linear_model import Lasso\n",
    "from sklearn.linear_model import ElasticNet\n",
    "from sklearn.neighbors import KNeighborsRegressor\n",
    "from sklearn.tree import DecisionTreeRegressor\n",
    "from sklearn.svm import SVR\n",
    "from sklearn.ensemble import RandomForestRegressor\n",
    "from sklearn.metrics import r2_score\n",
    "from sklearn.model_selection import train_test_split\n",
    "from sklearn.metrics import mean_squared_error\n",
    "from math import sqrt\n",
    "from sklearn.linear_model import SGDRegressor\n",
    "from sklearn.pipeline import make_pipeline\n",
    "from sklearn.model_selection import StratifiedShuffleSplit\n",
    "import torch.nn.functional as F\n",
    "from torchvision import transforms\n",
    "import os\n",
    "import math\n",
    "from torch.utils.data.sampler import SequentialSampler\n",
    "import torch\n",
    "from torch import nn\n",
    "from torch.utils.data import DataLoader,Dataset\n",
    "import cv2\n",
    "import os\n",
    "from sklearn.metrics import accuracy_score"
   ]
  },
  {
   "cell_type": "code",
   "execution_count": 7,
   "metadata": {},
   "outputs": [
    {
     "data": {
      "image/png": "[encoded data removed]",
      "text/plain": [
       "<Figure size 576x576 with 1 Axes>"
      ]
     },
     "metadata": {
      "needs_background": "light"
     },
     "output_type": "display_data"
    }
   ],
   "source": [
    "digits = load_digits(as_frame=False)\n",
    "#plt.gray()\n",
    "plt.matshow(digits.images[110])\n",
    "plt.show()"
   ]
  },
  {
   "cell_type": "code",
   "execution_count": 8,
   "metadata": {},
   "outputs": [],
   "source": [
    "X = digits.data"
   ]
  },
  {
   "cell_type": "code",
   "execution_count": 9,
   "metadata": {},
   "outputs": [],
   "source": [
    "Y = digits.target\n",
    "Y = Y.reshape(len(Y),1)\n"
   ]
  },
  {
   "cell_type": "code",
   "execution_count": 10,
   "metadata": {},
   "outputs": [],
   "source": [
    " X_train, X_test, y_train, y_test = train_test_split(X, Y, stratify=Y,test_size=0.2,random_state=3116)"
   ]
  },
  {
   "cell_type": "code",
   "execution_count": 11,
   "metadata": {},
   "outputs": [],
   "source": [
    "clf = MLPClassifier(random_state=3116, max_iter=300).fit(X_train, y_train)"
   ]
  },
  {
   "cell_type": "code",
   "execution_count": 12,
   "metadata": {},
   "outputs": [
    {
     "data": {
      "text/plain": [
       "array([[2.54100615e-08, 2.62938165e-08, 2.13561410e-15, 4.73356379e-20,\n",
       "        9.99999868e-01, 3.41843016e-11, 1.40238884e-08, 6.61206535e-08,\n",
       "        6.16084626e-12, 1.16212870e-11]])"
      ]
     },
     "execution_count": 12,
     "metadata": {},
     "output_type": "execute_result"
    }
   ],
   "source": [
    "clf.predict_proba(X_test[:1])"
   ]
  },
  {
   "cell_type": "code",
   "execution_count": 13,
   "metadata": {},
   "outputs": [
    {
     "data": {
      "text/plain": [
       "array([4])"
      ]
     },
     "execution_count": 13,
     "metadata": {},
     "output_type": "execute_result"
    }
   ],
   "source": [
    "clf.predict(X_test[:1])"
   ]
  },
  {
   "cell_type": "code",
   "execution_count": 14,
   "metadata": {},
   "outputs": [
    {
     "data": {
      "text/plain": [
       "array([4, 5, 2, 3, 3])"
      ]
     },
     "execution_count": 14,
     "metadata": {},
     "output_type": "execute_result"
    }
   ],
   "source": [
    "clf.predict(X_test[:5, :])"
   ]
  },
  {
   "cell_type": "code",
   "execution_count": 15,
   "metadata": {},
   "outputs": [
    {
     "data": {
      "text/plain": [
       "0.9666666666666667"
      ]
     },
     "execution_count": 15,
     "metadata": {},
     "output_type": "execute_result"
    }
   ],
   "source": [
    "clf.score(X_test, y_test)"
   ]
  },
  {
   "cell_type": "code",
   "execution_count": 16,
   "metadata": {},
   "outputs": [],
   "source": [
    "def get_best_params(train_x, train_y,hidden_layer_sizes_range,batch_size_range):\n",
    "    param_grid = dict(hidden_layer_sizes=hidden_layer_sizes_range, batch_size=batch_size_range)\n",
    "\n",
    "    cv = StratifiedShuffleSplit(n_splits=2, test_size=0.2, random_state=42) # stratifying sample for crossvalidation as test size 20% and divinding it into two parts\n",
    "    # for param grid calling GridSearchCV with penalty(for specifying model) and diff hyper params in grid\n",
    "    grid = GridSearchCV(MLPClassifier(random_state=3116, max_iter=500), param_grid=param_grid, cv=cv,return_train_score=True, n_jobs=14, verbose=10) \n",
    "    grid.fit(train_x, train_y)\n",
    "\n",
    "    print(\"The best parameters are %s with a score of %0.2f\" % (grid.best_params_, grid.best_score_))\n",
    "\n",
    "    scores = []\n",
    "    # to calculate test and train score for each setting in parameter and adding it to scores list\n",
    "    for i,j,k in zip (grid.cv_results_['params'],grid.cv_results_['mean_test_score'],grid.cv_results_['mean_train_score']):\n",
    "        scores.append([j,k,i['hidden_layer_sizes'],i['batch_size']])\n",
    "    hidden_layer_sizes_best = grid.best_params_['hidden_layer_sizes']\n",
    "    batch_sizebest = grid.best_params_['batch_size']\n",
    "\n",
    "    clf = MLPClassifier(hidden_layer_sizes =hidden_layer_sizes_best,batch_size=batch_sizebest)\n",
    "\n",
    "    return clf,np.array(scores),hidden_layer_sizes_best,batch_sizebest"
   ]
  },
  {
   "cell_type": "code",
   "execution_count": 33,
   "metadata": {},
   "outputs": [
    {
     "name": "stdout",
     "output_type": "stream",
     "text": [
      "Fitting 2 folds for each of 30 candidates, totalling 60 fits\n"
     ]
    },
    {
     "name": "stderr",
     "output_type": "stream",
     "text": [
      "[Parallel(n_jobs=14)]: Using backend LokyBackend with 14 concurrent workers.\n",
      "[Parallel(n_jobs=14)]: Done   4 tasks      | elapsed:    6.9s\n",
      "[Parallel(n_jobs=14)]: Done  13 tasks      | elapsed:    9.5s\n",
      "[Parallel(n_jobs=14)]: Done  22 tasks      | elapsed:   13.2s\n",
      "[Parallel(n_jobs=14)]: Done  33 tasks      | elapsed:   16.4s\n",
      "[Parallel(n_jobs=14)]: Done  40 out of  60 | elapsed:   17.9s remaining:    8.9s\n",
      "[Parallel(n_jobs=14)]: Done  47 out of  60 | elapsed:   19.7s remaining:    5.4s\n",
      "[Parallel(n_jobs=14)]: Done  54 out of  60 | elapsed:   21.0s remaining:    2.2s\n",
      "[Parallel(n_jobs=14)]: Done  60 out of  60 | elapsed:   21.7s finished\n"
     ]
    },
    {
     "name": "stdout",
     "output_type": "stream",
     "text": [
      "The best parameters are {'batch_size': 16, 'hidden_layer_sizes': 100} with a score of 0.98\n"
     ]
    }
   ],
   "source": [
    "hidden_layer_sizes_range = [2, 16, 32, 64,100]\n",
    "batch_size_range =[16, 32, 64,128,264,528]\n",
    "clf,scores,hidden_layer_sizes_best,batch_sizebest = get_best_params(X_train, y_train,hidden_layer_sizes_range,batch_size_range)"
   ]
  },
  {
   "cell_type": "code",
   "execution_count": 34,
   "metadata": {},
   "outputs": [
    {
     "data": {
      "text/plain": [
       "MLPClassifier(batch_size=16, hidden_layer_sizes=100)"
      ]
     },
     "execution_count": 34,
     "metadata": {},
     "output_type": "execute_result"
    }
   ],
   "source": [
    "clf.fit(X_train, y_train)"
   ]
  },
  {
   "cell_type": "code",
   "execution_count": 35,
   "metadata": {},
   "outputs": [],
   "source": [
    "y_pred = clf.predict(X_test)"
   ]
  },
  {
   "cell_type": "code",
   "execution_count": 36,
   "metadata": {},
   "outputs": [],
   "source": [
    "acc = accuracy_score(y_test, y_pred)"
   ]
  },
  {
   "cell_type": "code",
   "execution_count": 37,
   "metadata": {},
   "outputs": [
    {
     "name": "stdout",
     "output_type": "stream",
     "text": [
      "Test Accuracy:: 0.9666666666666667\n"
     ]
    }
   ],
   "source": [
    "print('Test Accuracy::',acc)"
   ]
  },
  {
   "cell_type": "code",
   "execution_count": 38,
   "metadata": {},
   "outputs": [
    {
     "name": "stdout",
     "output_type": "stream",
     "text": [
      "The best parameters are: batch_size = 16 and  hidden_layer_sizes = 100\n"
     ]
    }
   ],
   "source": [
    "print(\"The best parameters are: batch_size = %i and  hidden_layer_sizes = %i\" % (batch_sizebest,hidden_layer_sizes_best))"
   ]
  },
  {
   "cell_type": "markdown",
   "metadata": {},
   "source": [
    "### Exercise 2: End-to-End Self-Driving via Convolutional Neural Networks"
   ]
  },
  {
   "cell_type": "code",
   "execution_count": 80,
   "metadata": {},
   "outputs": [],
   "source": [
    "\n",
    "device = \"cuda\" if torch.cuda.is_available() else \"cpu\"\n",
    "class Dataset(Dataset):\n",
    "    \n",
    "    def __init__(self):\n",
    "        #defaultdirectorywheredataisloaded\n",
    "        self.filepath='driving_dataset/'\n",
    "        self.filenames=os.listdir(self.filepath)\n",
    "        self.xs = []\n",
    "        self.ys = []\n",
    "        with open(\"angles.txt\") as f:\n",
    "            for line in f:\n",
    "                self.xs.append(\"driving_dataset/\" + line.split()[0])\n",
    "                self.ys.append(float(line.split()[1]) * 3.14159265 / 180)\n",
    "    \n",
    "    def __len__(self):\n",
    "        return len(self.filenames)\n",
    "        \n",
    "    def __getitem__(self,index):\n",
    "\n",
    "        filename=self.filenames[index]\n",
    "        img=cv2.imread(self.filepath+filename)\n",
    "        height, width, channels = img.shape\n",
    "        #print(height,width,channels)\n",
    "        #Resizingimagesto(32,32)\n",
    "        resized=cv2.resize(img,(66,200),interpolation=cv2.INTER_AREA)\n",
    "        transform_norm = transforms.Compose([\n",
    "            transforms.ToTensor()\n",
    "        ])\n",
    "        #to Tensor\n",
    "        tensorImg2= transform_norm(resized)\n",
    "     \n",
    "        mean = tensorImg2.mean([1,2])\n",
    "        std = tensorImg2.std([1,2])\n",
    "\n",
    "        transform_norm = transforms.Compose([\n",
    "            transforms.ToTensor(),\n",
    "            transforms.Normalize(mean, std)\n",
    "        ])\n",
    "        norm_tensorImg2= transform_norm(resized)\n",
    "\n",
    "        return norm_tensorImg2.float(),torch.tensor([self.ys[index]])\n",
    "        \n",
    "class ConvNet(torch.nn.Module):\n",
    "    def __init__(self):\n",
    "        super().__init__()\n",
    "        \n",
    "        self.conv1 = nn.Conv2d(3, 24, 5,stride=(2, 2))\n",
    "        self.conv2 = nn.Conv2d(24, 36, 5,stride=(2, 2))\n",
    "        self.conv3 = nn.Conv2d(36, 48, 5,stride=(2, 2))\n",
    "        self.conv4 = nn.Conv2d(48, 64, 3)\n",
    "        self.conv5 = nn.Conv2d(64, 64, 3)\n",
    "        self.fc1 = nn.Linear(64 * 18 * 1, 100)\n",
    "        self.fc2 = nn.Linear(100, 50)\n",
    "        self.fc3 = nn.Linear(50, 10)\n",
    "        self.out = nn.Linear(10, 1)\n",
    "    def forward(self,x):\n",
    "        # \n",
    "        # input x size : torch.Size([60, 3, 200, 66])\n",
    "        \n",
    "        # 5 Convolution Layers\n",
    "        x = F.relu(self.conv1(x)) # 1 CV 1 torch.Size([60, 24, 98, 31])\n",
    "        x = F.relu(self.conv2(x)) #  CV 2  torch.Size([60, 36, 47, 14])\n",
    "        x = F.relu(self.conv3(x)) #  CV 3  torch.Size([60, 36, 47, 14])\n",
    "        x = F.relu(self.conv4(x)) # #  CV 4  torch.Size([60, 64, 20, 3])\n",
    "        x = F.relu(self.conv5(x)) #  CV 5  torch.Size([60, 64, 18, 1])\n",
    "        \n",
    "        x = x.view(-1, 64 * 18 * 1) # flatten  torch.Size([60, 1152])\n",
    "        \n",
    "        # 3 Fully connected  Layers\n",
    "        x = F.relu(self.fc1(x)) # torch.Size([60, 100])\n",
    "        x = F.relu(self.fc2(x)) #  torch.Size([60, 50])\n",
    "        x = F.relu(self.fc3(x)) #  torch.Size([60, 10])\n",
    "        \n",
    "        # Output layer with activation function\n",
    "        x = F.tanh(self.out(x)) #  out  torch.Size([60, 1])\n",
    "        return x\n"
   ]
  },
  {
   "cell_type": "code",
   "execution_count": 154,
   "metadata": {},
   "outputs": [
    {
     "name": "stdout",
     "output_type": "stream",
     "text": [
      "10000\n"
     ]
    }
   ],
   "source": [
    "dataset=Dataset()\n",
    "\n",
    "batch_size = 60\n",
    "shuffle_dataset = False\n",
    "random_seed= 31142\n",
    "num_epochs = 5\n",
    "\n",
    "# Creating data indices for training and validation splits:\n",
    "dataset_size = len(dataset)\n",
    "\n",
    "indices = list(range(dataset_size))\n",
    "if shuffle_dataset :\n",
    "    np.random.seed(random_seed)\n",
    "    np.random.shuffle(indices)\n",
    "    \n",
    "testSplitRatio = 10000/dataset_size\n",
    "validationSplitRatio = 10000/dataset_size\n",
    "trainSplitRation = 1-testSplitRatio-validationSplitRatio\n",
    "\n",
    "train_indices = indices[0:math.floor(dataset_size*trainSplitRation)]\n",
    "val_indices = indices[math.floor(dataset_size*trainSplitRation):math.floor(dataset_size*(trainSplitRation+validationSplitRatio))]\n",
    "test_indices = indices[math.floor(dataset_size*(trainSplitRation+validationSplitRatio)):]\n",
    "\n",
    "\n",
    "train_sampler = SequentialSampler(train_indices)\n",
    "valid_sampler = SequentialSampler(val_indices)\n",
    "test_sampler = SequentialSampler(test_indices)\n",
    "\n",
    "train_loader = torch.utils.data.DataLoader(dataset, batch_size=batch_size, \n",
    "                                           sampler=train_sampler,shuffle=False)\n",
    "validation_loader = torch.utils.data.DataLoader(dataset, batch_size=batch_size,\n",
    "                                                sampler=valid_sampler,shuffle=False)\n",
    "test_loader = torch.utils.data.DataLoader(dataset,\n",
    "                                                sampler=test_sampler,shuffle=False)\n",
    "\n"
   ]
  },
  {
   "cell_type": "code",
   "execution_count": 159,
   "metadata": {},
   "outputs": [
    {
     "name": "stdout",
     "output_type": "stream",
     "text": [
      "Epoch [1/5], Step [200/427], Loss: 0.0612\n",
      "Epoch [1/5], Step [400/427], Loss: 0.0335\n",
      "Epoch [2/5], Step [200/427], Loss: 0.0679\n",
      "Epoch [2/5], Step [400/427], Loss: 0.0315\n",
      "Epoch [3/5], Step [200/427], Loss: 0.0732\n",
      "Epoch [3/5], Step [400/427], Loss: 0.0284\n",
      "Epoch [4/5], Step [200/427], Loss: 0.0737\n",
      "Epoch [4/5], Step [400/427], Loss: 0.0277\n",
      "Epoch [5/5], Step [200/427], Loss: 0.0742\n",
      "Epoch [5/5], Step [400/427], Loss: 0.0271\n",
      "Finished Training\n"
     ]
    }
   ],
   "source": [
    "n_total_steps = len(train_loader)\n",
    "net=ConvNet().to(device)\n",
    "optimizer=torch.optim.Adam(net.parameters(),lr=1e-3)\n",
    "criterion=torch.nn.MSELoss()\n",
    "for epoch in range(num_epochs):\n",
    "    for i,sample_batched in enumerate(train_loader):\n",
    "        optimizer.zero_grad()\n",
    "        yhat=net(sample_batched[0].cuda())\n",
    "        loss=criterion(yhat.squeeze(),sample_batched[1].squeeze().cuda())\n",
    "        loss.backward(retain_graph=True)\n",
    "        optimizer.step()\n",
    "        if (i+1) % 200 == 0:\n",
    "            print (f'Epoch [{epoch+1}/{num_epochs}], Step [{i+1}/{n_total_steps}], Loss: {loss.item():.4f}')\n",
    "            \n",
    "print('Finished Training')"
   ]
  },
  {
   "cell_type": "code",
   "execution_count": 161,
   "metadata": {},
   "outputs": [
    {
     "data": {
      "text/plain": [
       "tensor(0.0077, device='cuda:0')"
      ]
     },
     "execution_count": 161,
     "metadata": {},
     "output_type": "execute_result"
    }
   ],
   "source": [
    "def MSELoss(yhat,y):\n",
    "    return torch.mean((yhat-y)**2)\n",
    "criterion=MSELoss\n",
    "mse = 0\n",
    "with torch.no_grad():\n",
    "    for i,sample_batched in enumerate(test_loader):\n",
    "        optimizer.zero_grad()\n",
    "        yhat=net(sample_batched[0].cuda())\n",
    "        loss=criterion(yhat.squeeze(),sample_batched[1].squeeze().cuda())\n",
    "        mse += loss\n",
    "    rmse = torch.sqrt (mse)\n",
    "    rmseAvg = rmse / len(test_loader)\n",
    "        \n",
    "\n",
    "rmseAvg\n"
   ]
  },
  {
   "cell_type": "code",
   "execution_count": 158,
   "metadata": {},
   "outputs": [
    {
     "data": {
      "text/plain": [
       "0.00759779242798686"
      ]
     },
     "execution_count": 158,
     "metadata": {},
     "output_type": "execute_result"
    }
   ],
   "source": [
    "rmseAvg.item()"
   ]
  },
  {
   "cell_type": "code",
   "execution_count": 160,
   "metadata": {},
   "outputs": [
    {
     "name": "stdout",
     "output_type": "stream",
     "text": [
      "RMSE on test images 0.00759779242798686\n"
     ]
    }
   ],
   "source": [
    "print ('RMSE on test images', rmseAvg.item())"
   ]
  }
 ],
 "metadata": {
  "kernelspec": {
   "display_name": "Python 3",
   "language": "python",
   "name": "python3"
  },
  "language_info": {
   "codemirror_mode": {
    "name": "ipython",
    "version": 3
   },
   "file_extension": ".py",
   "mimetype": "text/x-python",
   "name": "python",
   "nbconvert_exporter": "python",
   "pygments_lexer": "ipython3",
   "version": "3.8.5"
  }
 },
 "nbformat": 4,
 "nbformat_minor": 4
}
