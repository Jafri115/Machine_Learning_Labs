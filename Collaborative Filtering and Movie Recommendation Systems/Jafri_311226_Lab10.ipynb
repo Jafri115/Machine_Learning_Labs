{
 "cells": [
  {
   "cell_type": "markdown",
   "metadata": {},
   "source": [
    "\n",
    "\n",
    "\n",
    "# Lab Course Machine Learning\n",
    "# Exercise Sheet 10\n",
    "January 23th, 2021\n",
    "\n",
    "Syed Wasif Murtaza Jafri-311226\n",
    "\n",
    "## Exercise 1: Exploring Movie Recommendation Dataset"
   ]
  },
  {
   "cell_type": "code",
   "execution_count": 545,
   "metadata": {},
   "outputs": [],
   "source": [
    "import numpy as np\n",
    "import math\n",
    "from sklearn.preprocessing import PolynomialFeatures\n",
    "import pandas as pd\n",
    "import numpy as np\n",
    "import matplotlib.pyplot as plt\n",
    "from matplotlib import cm\n",
    "from matplotlib.ticker import LinearLocator\n",
    "from sympy import symbols, diff\n",
    "import pandas as pd\n",
    "import math\n",
    "import warnings\n",
    "import itertools\n",
    "import matplotlib.colors as colors\n",
    "from matplotlib.cm import ScalarMappable\n",
    "from scipy.spatial.distance import pdist,cdist\n",
    "warnings.filterwarnings('ignore')\n",
    "from itertools import combinations\n",
    "import operator\n",
    "from sklearn.decomposition import NMF"
   ]
  },
  {
   "cell_type": "code",
   "execution_count": 151,
   "metadata": {},
   "outputs": [
    {
     "data": {
      "text/html": [
       "<div>\n",
       "<style scoped>\n",
       "    .dataframe tbody tr th:only-of-type {\n",
       "        vertical-align: middle;\n",
       "    }\n",
       "\n",
       "    .dataframe tbody tr th {\n",
       "        vertical-align: top;\n",
       "    }\n",
       "\n",
       "    .dataframe thead th {\n",
       "        text-align: right;\n",
       "    }\n",
       "</style>\n",
       "<table border=\"1\" class=\"dataframe\">\n",
       "  <thead>\n",
       "    <tr style=\"text-align: right;\">\n",
       "      <th></th>\n",
       "      <th>user_id</th>\n",
       "      <th>item_id</th>\n",
       "      <th>rating</th>\n",
       "      <th>timestamp</th>\n",
       "    </tr>\n",
       "  </thead>\n",
       "  <tbody>\n",
       "    <tr>\n",
       "      <th>0</th>\n",
       "      <td>196</td>\n",
       "      <td>242</td>\n",
       "      <td>3</td>\n",
       "      <td>881250949</td>\n",
       "    </tr>\n",
       "    <tr>\n",
       "      <th>1</th>\n",
       "      <td>186</td>\n",
       "      <td>302</td>\n",
       "      <td>3</td>\n",
       "      <td>891717742</td>\n",
       "    </tr>\n",
       "    <tr>\n",
       "      <th>2</th>\n",
       "      <td>22</td>\n",
       "      <td>377</td>\n",
       "      <td>1</td>\n",
       "      <td>878887116</td>\n",
       "    </tr>\n",
       "    <tr>\n",
       "      <th>3</th>\n",
       "      <td>244</td>\n",
       "      <td>51</td>\n",
       "      <td>2</td>\n",
       "      <td>880606923</td>\n",
       "    </tr>\n",
       "    <tr>\n",
       "      <th>4</th>\n",
       "      <td>166</td>\n",
       "      <td>346</td>\n",
       "      <td>1</td>\n",
       "      <td>886397596</td>\n",
       "    </tr>\n",
       "  </tbody>\n",
       "</table>\n",
       "</div>"
      ],
      "text/plain": [
       "   user_id  item_id  rating  timestamp\n",
       "0      196      242       3  881250949\n",
       "1      186      302       3  891717742\n",
       "2       22      377       1  878887116\n",
       "3      244       51       2  880606923\n",
       "4      166      346       1  886397596"
      ]
     },
     "execution_count": 151,
     "metadata": {},
     "output_type": "execute_result"
    }
   ],
   "source": [
    "ratingdf = pd.read_csv('ml-100k/u.data', sep = '\\t',names = ['user_id','item_id' , 'rating' , 'timestamp'],header = None)\n",
    "ratingdf.head()"
   ]
  },
  {
   "cell_type": "code",
   "execution_count": 152,
   "metadata": {},
   "outputs": [
    {
     "data": {
      "text/html": [
       "<div>\n",
       "<style scoped>\n",
       "    .dataframe tbody tr th:only-of-type {\n",
       "        vertical-align: middle;\n",
       "    }\n",
       "\n",
       "    .dataframe tbody tr th {\n",
       "        vertical-align: top;\n",
       "    }\n",
       "\n",
       "    .dataframe thead th {\n",
       "        text-align: right;\n",
       "    }\n",
       "</style>\n",
       "<table border=\"1\" class=\"dataframe\">\n",
       "  <thead>\n",
       "    <tr style=\"text-align: right;\">\n",
       "      <th></th>\n",
       "      <th>movie_id</th>\n",
       "      <th>movie_title</th>\n",
       "      <th>release_date</th>\n",
       "      <th>video_release_date</th>\n",
       "      <th>IMDb_URL</th>\n",
       "      <th>unknown</th>\n",
       "      <th>Action</th>\n",
       "      <th>Adventure</th>\n",
       "      <th>Animation</th>\n",
       "      <th>Childrens</th>\n",
       "      <th>...</th>\n",
       "      <th>Fantasy</th>\n",
       "      <th>Film_Noir</th>\n",
       "      <th>Horror</th>\n",
       "      <th>Musical</th>\n",
       "      <th>Mystery</th>\n",
       "      <th>Romance</th>\n",
       "      <th>Sci_Fi</th>\n",
       "      <th>Thriller</th>\n",
       "      <th>War</th>\n",
       "      <th>Western</th>\n",
       "    </tr>\n",
       "  </thead>\n",
       "  <tbody>\n",
       "    <tr>\n",
       "      <th>0</th>\n",
       "      <td>1</td>\n",
       "      <td>Toy Story (1995)</td>\n",
       "      <td>01-Jan-1995</td>\n",
       "      <td>NaN</td>\n",
       "      <td>http://us.imdb.com/M/title-exact?Toy%20Story%2...</td>\n",
       "      <td>0</td>\n",
       "      <td>0</td>\n",
       "      <td>0</td>\n",
       "      <td>1</td>\n",
       "      <td>1</td>\n",
       "      <td>...</td>\n",
       "      <td>0</td>\n",
       "      <td>0</td>\n",
       "      <td>0</td>\n",
       "      <td>0</td>\n",
       "      <td>0</td>\n",
       "      <td>0</td>\n",
       "      <td>0</td>\n",
       "      <td>0</td>\n",
       "      <td>0</td>\n",
       "      <td>0</td>\n",
       "    </tr>\n",
       "    <tr>\n",
       "      <th>1</th>\n",
       "      <td>2</td>\n",
       "      <td>GoldenEye (1995)</td>\n",
       "      <td>01-Jan-1995</td>\n",
       "      <td>NaN</td>\n",
       "      <td>http://us.imdb.com/M/title-exact?GoldenEye%20(...</td>\n",
       "      <td>0</td>\n",
       "      <td>1</td>\n",
       "      <td>1</td>\n",
       "      <td>0</td>\n",
       "      <td>0</td>\n",
       "      <td>...</td>\n",
       "      <td>0</td>\n",
       "      <td>0</td>\n",
       "      <td>0</td>\n",
       "      <td>0</td>\n",
       "      <td>0</td>\n",
       "      <td>0</td>\n",
       "      <td>0</td>\n",
       "      <td>1</td>\n",
       "      <td>0</td>\n",
       "      <td>0</td>\n",
       "    </tr>\n",
       "    <tr>\n",
       "      <th>2</th>\n",
       "      <td>3</td>\n",
       "      <td>Four Rooms (1995)</td>\n",
       "      <td>01-Jan-1995</td>\n",
       "      <td>NaN</td>\n",
       "      <td>http://us.imdb.com/M/title-exact?Four%20Rooms%...</td>\n",
       "      <td>0</td>\n",
       "      <td>0</td>\n",
       "      <td>0</td>\n",
       "      <td>0</td>\n",
       "      <td>0</td>\n",
       "      <td>...</td>\n",
       "      <td>0</td>\n",
       "      <td>0</td>\n",
       "      <td>0</td>\n",
       "      <td>0</td>\n",
       "      <td>0</td>\n",
       "      <td>0</td>\n",
       "      <td>0</td>\n",
       "      <td>1</td>\n",
       "      <td>0</td>\n",
       "      <td>0</td>\n",
       "    </tr>\n",
       "    <tr>\n",
       "      <th>3</th>\n",
       "      <td>4</td>\n",
       "      <td>Get Shorty (1995)</td>\n",
       "      <td>01-Jan-1995</td>\n",
       "      <td>NaN</td>\n",
       "      <td>http://us.imdb.com/M/title-exact?Get%20Shorty%...</td>\n",
       "      <td>0</td>\n",
       "      <td>1</td>\n",
       "      <td>0</td>\n",
       "      <td>0</td>\n",
       "      <td>0</td>\n",
       "      <td>...</td>\n",
       "      <td>0</td>\n",
       "      <td>0</td>\n",
       "      <td>0</td>\n",
       "      <td>0</td>\n",
       "      <td>0</td>\n",
       "      <td>0</td>\n",
       "      <td>0</td>\n",
       "      <td>0</td>\n",
       "      <td>0</td>\n",
       "      <td>0</td>\n",
       "    </tr>\n",
       "    <tr>\n",
       "      <th>4</th>\n",
       "      <td>5</td>\n",
       "      <td>Copycat (1995)</td>\n",
       "      <td>01-Jan-1995</td>\n",
       "      <td>NaN</td>\n",
       "      <td>http://us.imdb.com/M/title-exact?Copycat%20(1995)</td>\n",
       "      <td>0</td>\n",
       "      <td>0</td>\n",
       "      <td>0</td>\n",
       "      <td>0</td>\n",
       "      <td>0</td>\n",
       "      <td>...</td>\n",
       "      <td>0</td>\n",
       "      <td>0</td>\n",
       "      <td>0</td>\n",
       "      <td>0</td>\n",
       "      <td>0</td>\n",
       "      <td>0</td>\n",
       "      <td>0</td>\n",
       "      <td>1</td>\n",
       "      <td>0</td>\n",
       "      <td>0</td>\n",
       "    </tr>\n",
       "  </tbody>\n",
       "</table>\n",
       "<p>5 rows × 24 columns</p>\n",
       "</div>"
      ],
      "text/plain": [
       "   movie_id        movie_title release_date  video_release_date  \\\n",
       "0         1   Toy Story (1995)  01-Jan-1995                 NaN   \n",
       "1         2   GoldenEye (1995)  01-Jan-1995                 NaN   \n",
       "2         3  Four Rooms (1995)  01-Jan-1995                 NaN   \n",
       "3         4  Get Shorty (1995)  01-Jan-1995                 NaN   \n",
       "4         5     Copycat (1995)  01-Jan-1995                 NaN   \n",
       "\n",
       "                                            IMDb_URL  unknown  Action  \\\n",
       "0  http://us.imdb.com/M/title-exact?Toy%20Story%2...        0       0   \n",
       "1  http://us.imdb.com/M/title-exact?GoldenEye%20(...        0       1   \n",
       "2  http://us.imdb.com/M/title-exact?Four%20Rooms%...        0       0   \n",
       "3  http://us.imdb.com/M/title-exact?Get%20Shorty%...        0       1   \n",
       "4  http://us.imdb.com/M/title-exact?Copycat%20(1995)        0       0   \n",
       "\n",
       "   Adventure  Animation  Childrens  ...  Fantasy  Film_Noir  Horror  Musical  \\\n",
       "0          0          1          1  ...        0          0       0        0   \n",
       "1          1          0          0  ...        0          0       0        0   \n",
       "2          0          0          0  ...        0          0       0        0   \n",
       "3          0          0          0  ...        0          0       0        0   \n",
       "4          0          0          0  ...        0          0       0        0   \n",
       "\n",
       "   Mystery  Romance  Sci_Fi  Thriller  War  Western  \n",
       "0        0        0       0         0    0        0  \n",
       "1        0        0       0         1    0        0  \n",
       "2        0        0       0         1    0        0  \n",
       "3        0        0       0         0    0        0  \n",
       "4        0        0       0         1    0        0  \n",
       "\n",
       "[5 rows x 24 columns]"
      ]
     },
     "execution_count": 152,
     "metadata": {},
     "output_type": "execute_result"
    }
   ],
   "source": [
    "itemdf = pd.read_csv('ml-100k/u.item', sep = '|',header = None,encoding='latin',names = [ 'movie_id','movie_title','release_date','video_release_date','IMDb_URL','unknown','Action','Adventure','Animation','Childrens','Comedy','Crime','Documentary','Drama','Fantasy','Film_Noir','Horror','Musical','Mystery','Romance','Sci_Fi','Thriller','War','Western'])\n",
    "itemdf.head()"
   ]
  },
  {
   "cell_type": "code",
   "execution_count": 153,
   "metadata": {},
   "outputs": [
    {
     "data": {
      "text/html": [
       "<div>\n",
       "<style scoped>\n",
       "    .dataframe tbody tr th:only-of-type {\n",
       "        vertical-align: middle;\n",
       "    }\n",
       "\n",
       "    .dataframe tbody tr th {\n",
       "        vertical-align: top;\n",
       "    }\n",
       "\n",
       "    .dataframe thead th {\n",
       "        text-align: right;\n",
       "    }\n",
       "</style>\n",
       "<table border=\"1\" class=\"dataframe\">\n",
       "  <thead>\n",
       "    <tr style=\"text-align: right;\">\n",
       "      <th></th>\n",
       "      <th>user_id</th>\n",
       "      <th>age</th>\n",
       "      <th>gender</th>\n",
       "      <th>occupation</th>\n",
       "      <th>zip_code</th>\n",
       "    </tr>\n",
       "  </thead>\n",
       "  <tbody>\n",
       "    <tr>\n",
       "      <th>0</th>\n",
       "      <td>1</td>\n",
       "      <td>24</td>\n",
       "      <td>M</td>\n",
       "      <td>technician</td>\n",
       "      <td>85711</td>\n",
       "    </tr>\n",
       "    <tr>\n",
       "      <th>1</th>\n",
       "      <td>2</td>\n",
       "      <td>53</td>\n",
       "      <td>F</td>\n",
       "      <td>other</td>\n",
       "      <td>94043</td>\n",
       "    </tr>\n",
       "    <tr>\n",
       "      <th>2</th>\n",
       "      <td>3</td>\n",
       "      <td>23</td>\n",
       "      <td>M</td>\n",
       "      <td>writer</td>\n",
       "      <td>32067</td>\n",
       "    </tr>\n",
       "    <tr>\n",
       "      <th>3</th>\n",
       "      <td>4</td>\n",
       "      <td>24</td>\n",
       "      <td>M</td>\n",
       "      <td>technician</td>\n",
       "      <td>43537</td>\n",
       "    </tr>\n",
       "    <tr>\n",
       "      <th>4</th>\n",
       "      <td>5</td>\n",
       "      <td>33</td>\n",
       "      <td>F</td>\n",
       "      <td>other</td>\n",
       "      <td>15213</td>\n",
       "    </tr>\n",
       "  </tbody>\n",
       "</table>\n",
       "</div>"
      ],
      "text/plain": [
       "   user_id  age gender  occupation zip_code\n",
       "0        1   24      M  technician    85711\n",
       "1        2   53      F       other    94043\n",
       "2        3   23      M      writer    32067\n",
       "3        4   24      M  technician    43537\n",
       "4        5   33      F       other    15213"
      ]
     },
     "execution_count": 153,
     "metadata": {},
     "output_type": "execute_result"
    }
   ],
   "source": [
    "userdf = pd.read_csv('ml-100k/u.user', sep = '|',header = None,encoding='latin',names = ['user_id' ,'age' , 'gender' , 'occupation' , 'zip_code'])\n",
    "userdf.head()"
   ]
  },
  {
   "cell_type": "code",
   "execution_count": 154,
   "metadata": {},
   "outputs": [
    {
     "data": {
      "text/plain": [
       "405    737\n",
       "655    685\n",
       "13     636\n",
       "450    540\n",
       "276    518\n",
       "      ... \n",
       "147     20\n",
       "19      20\n",
       "572     20\n",
       "636     20\n",
       "895     20\n",
       "Name: user_id, Length: 943, dtype: int64"
      ]
     },
     "execution_count": 154,
     "metadata": {},
     "output_type": "execute_result"
    }
   ],
   "source": [
    "ratingdf['user_id'].value_counts()"
   ]
  },
  {
   "cell_type": "code",
   "execution_count": 155,
   "metadata": {},
   "outputs": [
    {
     "data": {
      "text/html": [
       "<div>\n",
       "<style scoped>\n",
       "    .dataframe tbody tr th:only-of-type {\n",
       "        vertical-align: middle;\n",
       "    }\n",
       "\n",
       "    .dataframe tbody tr th {\n",
       "        vertical-align: top;\n",
       "    }\n",
       "\n",
       "    .dataframe thead th {\n",
       "        text-align: right;\n",
       "    }\n",
       "</style>\n",
       "<table border=\"1\" class=\"dataframe\">\n",
       "  <thead>\n",
       "    <tr style=\"text-align: right;\">\n",
       "      <th></th>\n",
       "      <th>user_id</th>\n",
       "      <th>item_id</th>\n",
       "      <th>rating</th>\n",
       "      <th>timestamp</th>\n",
       "    </tr>\n",
       "  </thead>\n",
       "  <tbody>\n",
       "    <tr>\n",
       "      <th>202</th>\n",
       "      <td>1</td>\n",
       "      <td>61</td>\n",
       "      <td>4</td>\n",
       "      <td>878542420</td>\n",
       "    </tr>\n",
       "    <tr>\n",
       "      <th>305</th>\n",
       "      <td>1</td>\n",
       "      <td>189</td>\n",
       "      <td>3</td>\n",
       "      <td>888732928</td>\n",
       "    </tr>\n",
       "    <tr>\n",
       "      <th>333</th>\n",
       "      <td>1</td>\n",
       "      <td>33</td>\n",
       "      <td>4</td>\n",
       "      <td>878542699</td>\n",
       "    </tr>\n",
       "    <tr>\n",
       "      <th>334</th>\n",
       "      <td>1</td>\n",
       "      <td>160</td>\n",
       "      <td>4</td>\n",
       "      <td>875072547</td>\n",
       "    </tr>\n",
       "    <tr>\n",
       "      <th>478</th>\n",
       "      <td>1</td>\n",
       "      <td>20</td>\n",
       "      <td>4</td>\n",
       "      <td>887431883</td>\n",
       "    </tr>\n",
       "    <tr>\n",
       "      <th>...</th>\n",
       "      <td>...</td>\n",
       "      <td>...</td>\n",
       "      <td>...</td>\n",
       "      <td>...</td>\n",
       "    </tr>\n",
       "    <tr>\n",
       "      <th>92049</th>\n",
       "      <td>1</td>\n",
       "      <td>28</td>\n",
       "      <td>4</td>\n",
       "      <td>875072173</td>\n",
       "    </tr>\n",
       "    <tr>\n",
       "      <th>92487</th>\n",
       "      <td>1</td>\n",
       "      <td>172</td>\n",
       "      <td>5</td>\n",
       "      <td>874965478</td>\n",
       "    </tr>\n",
       "    <tr>\n",
       "      <th>94019</th>\n",
       "      <td>1</td>\n",
       "      <td>122</td>\n",
       "      <td>3</td>\n",
       "      <td>875241498</td>\n",
       "    </tr>\n",
       "    <tr>\n",
       "      <th>96699</th>\n",
       "      <td>1</td>\n",
       "      <td>152</td>\n",
       "      <td>5</td>\n",
       "      <td>878542589</td>\n",
       "    </tr>\n",
       "    <tr>\n",
       "      <th>99073</th>\n",
       "      <td>1</td>\n",
       "      <td>94</td>\n",
       "      <td>2</td>\n",
       "      <td>875072956</td>\n",
       "    </tr>\n",
       "  </tbody>\n",
       "</table>\n",
       "<p>272 rows × 4 columns</p>\n",
       "</div>"
      ],
      "text/plain": [
       "       user_id  item_id  rating  timestamp\n",
       "202          1       61       4  878542420\n",
       "305          1      189       3  888732928\n",
       "333          1       33       4  878542699\n",
       "334          1      160       4  875072547\n",
       "478          1       20       4  887431883\n",
       "...        ...      ...     ...        ...\n",
       "92049        1       28       4  875072173\n",
       "92487        1      172       5  874965478\n",
       "94019        1      122       3  875241498\n",
       "96699        1      152       5  878542589\n",
       "99073        1       94       2  875072956\n",
       "\n",
       "[272 rows x 4 columns]"
      ]
     },
     "execution_count": 155,
     "metadata": {},
     "output_type": "execute_result"
    }
   ],
   "source": [
    "ratingdf.query('user_id == 1')"
   ]
  },
  {
   "cell_type": "code",
   "execution_count": 619,
   "metadata": {},
   "outputs": [
    {
     "data": {
      "text/plain": [
       "Text(0.5, 1.0, 'User Rating')"
      ]
     },
     "execution_count": 619,
     "metadata": {},
     "output_type": "execute_result"
    },
    {
     "data": {
      "image/png": "[encoded data removed]",
      "text/plain": [
       "<Figure size 1080x720 with 1 Axes>"
      ]
     },
     "metadata": {
      "needs_background": "light"
     },
     "output_type": "display_data"
    }
   ],
   "source": [
    "cd = ratingdf['user_id'].value_counts()\n",
    "cd = cd.sort_index()\n",
    "plt.figure(figsize=(15, 10))\n",
    "plt.bar(cd.index,cd.values)\n",
    "plt.xlabel('User')\n",
    "plt.ylabel('Rating')\n",
    "plt.title('User Rating')"
   ]
  },
  {
   "cell_type": "code",
   "execution_count": 620,
   "metadata": {},
   "outputs": [
    {
     "data": {
      "text/plain": [
       "Text(0.5, 1.0, 'Item Rating')"
      ]
     },
     "execution_count": 620,
     "metadata": {},
     "output_type": "execute_result"
    },
    {
     "data": {
      "image/png": "[encoded data removed]",
      "text/plain": [
       "<Figure size 1080x720 with 1 Axes>"
      ]
     },
     "metadata": {
      "needs_background": "light"
     },
     "output_type": "display_data"
    }
   ],
   "source": [
    "cd = ratingdf['item_id'].value_counts()\n",
    "cd = cd.sort_index()\n",
    "plt.figure(figsize=(15, 10))\n",
    "plt.bar(cd.index,cd.values)\n",
    "plt.xlabel('items')\n",
    "plt.ylabel('Rating')\n",
    "plt.title('Item Rating')"
   ]
  },
  {
   "cell_type": "code",
   "execution_count": 158,
   "metadata": {},
   "outputs": [
    {
     "data": {
      "text/html": [
       "<div>\n",
       "<style scoped>\n",
       "    .dataframe tbody tr th:only-of-type {\n",
       "        vertical-align: middle;\n",
       "    }\n",
       "\n",
       "    .dataframe tbody tr th {\n",
       "        vertical-align: top;\n",
       "    }\n",
       "\n",
       "    .dataframe thead th {\n",
       "        text-align: right;\n",
       "    }\n",
       "</style>\n",
       "<table border=\"1\" class=\"dataframe\">\n",
       "  <thead>\n",
       "    <tr style=\"text-align: right;\">\n",
       "      <th></th>\n",
       "      <th>user_id</th>\n",
       "      <th>item_id</th>\n",
       "      <th>rating</th>\n",
       "      <th>timestamp</th>\n",
       "      <th>movie_id</th>\n",
       "      <th>movie_title</th>\n",
       "      <th>release_date</th>\n",
       "      <th>video_release_date</th>\n",
       "      <th>IMDb_URL</th>\n",
       "      <th>unknown</th>\n",
       "      <th>...</th>\n",
       "      <th>Fantasy</th>\n",
       "      <th>Film_Noir</th>\n",
       "      <th>Horror</th>\n",
       "      <th>Musical</th>\n",
       "      <th>Mystery</th>\n",
       "      <th>Romance</th>\n",
       "      <th>Sci_Fi</th>\n",
       "      <th>Thriller</th>\n",
       "      <th>War</th>\n",
       "      <th>Western</th>\n",
       "    </tr>\n",
       "  </thead>\n",
       "  <tbody>\n",
       "    <tr>\n",
       "      <th>0</th>\n",
       "      <td>196</td>\n",
       "      <td>242</td>\n",
       "      <td>3</td>\n",
       "      <td>881250949</td>\n",
       "      <td>242</td>\n",
       "      <td>Kolya (1996)</td>\n",
       "      <td>24-Jan-1997</td>\n",
       "      <td>NaN</td>\n",
       "      <td>http://us.imdb.com/M/title-exact?Kolya%20(1996)</td>\n",
       "      <td>0</td>\n",
       "      <td>...</td>\n",
       "      <td>0</td>\n",
       "      <td>0</td>\n",
       "      <td>0</td>\n",
       "      <td>0</td>\n",
       "      <td>0</td>\n",
       "      <td>0</td>\n",
       "      <td>0</td>\n",
       "      <td>0</td>\n",
       "      <td>0</td>\n",
       "      <td>0</td>\n",
       "    </tr>\n",
       "    <tr>\n",
       "      <th>1</th>\n",
       "      <td>63</td>\n",
       "      <td>242</td>\n",
       "      <td>3</td>\n",
       "      <td>875747190</td>\n",
       "      <td>242</td>\n",
       "      <td>Kolya (1996)</td>\n",
       "      <td>24-Jan-1997</td>\n",
       "      <td>NaN</td>\n",
       "      <td>http://us.imdb.com/M/title-exact?Kolya%20(1996)</td>\n",
       "      <td>0</td>\n",
       "      <td>...</td>\n",
       "      <td>0</td>\n",
       "      <td>0</td>\n",
       "      <td>0</td>\n",
       "      <td>0</td>\n",
       "      <td>0</td>\n",
       "      <td>0</td>\n",
       "      <td>0</td>\n",
       "      <td>0</td>\n",
       "      <td>0</td>\n",
       "      <td>0</td>\n",
       "    </tr>\n",
       "    <tr>\n",
       "      <th>2</th>\n",
       "      <td>226</td>\n",
       "      <td>242</td>\n",
       "      <td>5</td>\n",
       "      <td>883888671</td>\n",
       "      <td>242</td>\n",
       "      <td>Kolya (1996)</td>\n",
       "      <td>24-Jan-1997</td>\n",
       "      <td>NaN</td>\n",
       "      <td>http://us.imdb.com/M/title-exact?Kolya%20(1996)</td>\n",
       "      <td>0</td>\n",
       "      <td>...</td>\n",
       "      <td>0</td>\n",
       "      <td>0</td>\n",
       "      <td>0</td>\n",
       "      <td>0</td>\n",
       "      <td>0</td>\n",
       "      <td>0</td>\n",
       "      <td>0</td>\n",
       "      <td>0</td>\n",
       "      <td>0</td>\n",
       "      <td>0</td>\n",
       "    </tr>\n",
       "    <tr>\n",
       "      <th>3</th>\n",
       "      <td>154</td>\n",
       "      <td>242</td>\n",
       "      <td>3</td>\n",
       "      <td>879138235</td>\n",
       "      <td>242</td>\n",
       "      <td>Kolya (1996)</td>\n",
       "      <td>24-Jan-1997</td>\n",
       "      <td>NaN</td>\n",
       "      <td>http://us.imdb.com/M/title-exact?Kolya%20(1996)</td>\n",
       "      <td>0</td>\n",
       "      <td>...</td>\n",
       "      <td>0</td>\n",
       "      <td>0</td>\n",
       "      <td>0</td>\n",
       "      <td>0</td>\n",
       "      <td>0</td>\n",
       "      <td>0</td>\n",
       "      <td>0</td>\n",
       "      <td>0</td>\n",
       "      <td>0</td>\n",
       "      <td>0</td>\n",
       "    </tr>\n",
       "    <tr>\n",
       "      <th>4</th>\n",
       "      <td>306</td>\n",
       "      <td>242</td>\n",
       "      <td>5</td>\n",
       "      <td>876503793</td>\n",
       "      <td>242</td>\n",
       "      <td>Kolya (1996)</td>\n",
       "      <td>24-Jan-1997</td>\n",
       "      <td>NaN</td>\n",
       "      <td>http://us.imdb.com/M/title-exact?Kolya%20(1996)</td>\n",
       "      <td>0</td>\n",
       "      <td>...</td>\n",
       "      <td>0</td>\n",
       "      <td>0</td>\n",
       "      <td>0</td>\n",
       "      <td>0</td>\n",
       "      <td>0</td>\n",
       "      <td>0</td>\n",
       "      <td>0</td>\n",
       "      <td>0</td>\n",
       "      <td>0</td>\n",
       "      <td>0</td>\n",
       "    </tr>\n",
       "    <tr>\n",
       "      <th>...</th>\n",
       "      <td>...</td>\n",
       "      <td>...</td>\n",
       "      <td>...</td>\n",
       "      <td>...</td>\n",
       "      <td>...</td>\n",
       "      <td>...</td>\n",
       "      <td>...</td>\n",
       "      <td>...</td>\n",
       "      <td>...</td>\n",
       "      <td>...</td>\n",
       "      <td>...</td>\n",
       "      <td>...</td>\n",
       "      <td>...</td>\n",
       "      <td>...</td>\n",
       "      <td>...</td>\n",
       "      <td>...</td>\n",
       "      <td>...</td>\n",
       "      <td>...</td>\n",
       "      <td>...</td>\n",
       "      <td>...</td>\n",
       "      <td>...</td>\n",
       "    </tr>\n",
       "    <tr>\n",
       "      <th>99995</th>\n",
       "      <td>840</td>\n",
       "      <td>1674</td>\n",
       "      <td>4</td>\n",
       "      <td>891211682</td>\n",
       "      <td>1674</td>\n",
       "      <td>Mamma Roma (1962)</td>\n",
       "      <td>01-Jan-1962</td>\n",
       "      <td>NaN</td>\n",
       "      <td>http://us.imdb.com/M/title-exact?Mamma%20Roma%...</td>\n",
       "      <td>0</td>\n",
       "      <td>...</td>\n",
       "      <td>0</td>\n",
       "      <td>0</td>\n",
       "      <td>0</td>\n",
       "      <td>0</td>\n",
       "      <td>0</td>\n",
       "      <td>0</td>\n",
       "      <td>0</td>\n",
       "      <td>0</td>\n",
       "      <td>0</td>\n",
       "      <td>0</td>\n",
       "    </tr>\n",
       "    <tr>\n",
       "      <th>99996</th>\n",
       "      <td>655</td>\n",
       "      <td>1640</td>\n",
       "      <td>3</td>\n",
       "      <td>888474646</td>\n",
       "      <td>1640</td>\n",
       "      <td>Eighth Day, The (1996)</td>\n",
       "      <td>01-Nov-1996</td>\n",
       "      <td>NaN</td>\n",
       "      <td>http://us.imdb.com/Title?Huiti%E8me+jour,+Le+(...</td>\n",
       "      <td>0</td>\n",
       "      <td>...</td>\n",
       "      <td>0</td>\n",
       "      <td>0</td>\n",
       "      <td>0</td>\n",
       "      <td>0</td>\n",
       "      <td>0</td>\n",
       "      <td>0</td>\n",
       "      <td>0</td>\n",
       "      <td>0</td>\n",
       "      <td>0</td>\n",
       "      <td>0</td>\n",
       "    </tr>\n",
       "    <tr>\n",
       "      <th>99997</th>\n",
       "      <td>655</td>\n",
       "      <td>1637</td>\n",
       "      <td>3</td>\n",
       "      <td>888984255</td>\n",
       "      <td>1637</td>\n",
       "      <td>Girls Town (1996)</td>\n",
       "      <td>23-Aug-1996</td>\n",
       "      <td>NaN</td>\n",
       "      <td>http://us.imdb.com/M/title-exact?Girls%20Town%...</td>\n",
       "      <td>0</td>\n",
       "      <td>...</td>\n",
       "      <td>0</td>\n",
       "      <td>0</td>\n",
       "      <td>0</td>\n",
       "      <td>0</td>\n",
       "      <td>0</td>\n",
       "      <td>0</td>\n",
       "      <td>0</td>\n",
       "      <td>0</td>\n",
       "      <td>0</td>\n",
       "      <td>0</td>\n",
       "    </tr>\n",
       "    <tr>\n",
       "      <th>99998</th>\n",
       "      <td>655</td>\n",
       "      <td>1630</td>\n",
       "      <td>3</td>\n",
       "      <td>887428735</td>\n",
       "      <td>1630</td>\n",
       "      <td>Silence of the Palace, The (Saimt el Qusur) (1...</td>\n",
       "      <td>02-Feb-1996</td>\n",
       "      <td>NaN</td>\n",
       "      <td>http://us.imdb.com/M/title-exact?Saimt%20el%20...</td>\n",
       "      <td>0</td>\n",
       "      <td>...</td>\n",
       "      <td>0</td>\n",
       "      <td>0</td>\n",
       "      <td>0</td>\n",
       "      <td>0</td>\n",
       "      <td>0</td>\n",
       "      <td>0</td>\n",
       "      <td>0</td>\n",
       "      <td>0</td>\n",
       "      <td>0</td>\n",
       "      <td>0</td>\n",
       "    </tr>\n",
       "    <tr>\n",
       "      <th>99999</th>\n",
       "      <td>655</td>\n",
       "      <td>1641</td>\n",
       "      <td>3</td>\n",
       "      <td>887427810</td>\n",
       "      <td>1641</td>\n",
       "      <td>Dadetown (1995)</td>\n",
       "      <td>18-Sep-1996</td>\n",
       "      <td>NaN</td>\n",
       "      <td>http://us.imdb.com/M/title-exact?Dadetown%20(1...</td>\n",
       "      <td>0</td>\n",
       "      <td>...</td>\n",
       "      <td>0</td>\n",
       "      <td>0</td>\n",
       "      <td>0</td>\n",
       "      <td>0</td>\n",
       "      <td>0</td>\n",
       "      <td>0</td>\n",
       "      <td>0</td>\n",
       "      <td>0</td>\n",
       "      <td>0</td>\n",
       "      <td>0</td>\n",
       "    </tr>\n",
       "  </tbody>\n",
       "</table>\n",
       "<p>100000 rows × 28 columns</p>\n",
       "</div>"
      ],
      "text/plain": [
       "       user_id  item_id  rating  timestamp  movie_id  \\\n",
       "0          196      242       3  881250949       242   \n",
       "1           63      242       3  875747190       242   \n",
       "2          226      242       5  883888671       242   \n",
       "3          154      242       3  879138235       242   \n",
       "4          306      242       5  876503793       242   \n",
       "...        ...      ...     ...        ...       ...   \n",
       "99995      840     1674       4  891211682      1674   \n",
       "99996      655     1640       3  888474646      1640   \n",
       "99997      655     1637       3  888984255      1637   \n",
       "99998      655     1630       3  887428735      1630   \n",
       "99999      655     1641       3  887427810      1641   \n",
       "\n",
       "                                             movie_title release_date  \\\n",
       "0                                           Kolya (1996)  24-Jan-1997   \n",
       "1                                           Kolya (1996)  24-Jan-1997   \n",
       "2                                           Kolya (1996)  24-Jan-1997   \n",
       "3                                           Kolya (1996)  24-Jan-1997   \n",
       "4                                           Kolya (1996)  24-Jan-1997   \n",
       "...                                                  ...          ...   \n",
       "99995                                  Mamma Roma (1962)  01-Jan-1962   \n",
       "99996                             Eighth Day, The (1996)  01-Nov-1996   \n",
       "99997                                  Girls Town (1996)  23-Aug-1996   \n",
       "99998  Silence of the Palace, The (Saimt el Qusur) (1...  02-Feb-1996   \n",
       "99999                                    Dadetown (1995)  18-Sep-1996   \n",
       "\n",
       "       video_release_date                                           IMDb_URL  \\\n",
       "0                     NaN    http://us.imdb.com/M/title-exact?Kolya%20(1996)   \n",
       "1                     NaN    http://us.imdb.com/M/title-exact?Kolya%20(1996)   \n",
       "2                     NaN    http://us.imdb.com/M/title-exact?Kolya%20(1996)   \n",
       "3                     NaN    http://us.imdb.com/M/title-exact?Kolya%20(1996)   \n",
       "4                     NaN    http://us.imdb.com/M/title-exact?Kolya%20(1996)   \n",
       "...                   ...                                                ...   \n",
       "99995                 NaN  http://us.imdb.com/M/title-exact?Mamma%20Roma%...   \n",
       "99996                 NaN  http://us.imdb.com/Title?Huiti%E8me+jour,+Le+(...   \n",
       "99997                 NaN  http://us.imdb.com/M/title-exact?Girls%20Town%...   \n",
       "99998                 NaN  http://us.imdb.com/M/title-exact?Saimt%20el%20...   \n",
       "99999                 NaN  http://us.imdb.com/M/title-exact?Dadetown%20(1...   \n",
       "\n",
       "       unknown  ...  Fantasy  Film_Noir  Horror  Musical  Mystery  Romance  \\\n",
       "0            0  ...        0          0       0        0        0        0   \n",
       "1            0  ...        0          0       0        0        0        0   \n",
       "2            0  ...        0          0       0        0        0        0   \n",
       "3            0  ...        0          0       0        0        0        0   \n",
       "4            0  ...        0          0       0        0        0        0   \n",
       "...        ...  ...      ...        ...     ...      ...      ...      ...   \n",
       "99995        0  ...        0          0       0        0        0        0   \n",
       "99996        0  ...        0          0       0        0        0        0   \n",
       "99997        0  ...        0          0       0        0        0        0   \n",
       "99998        0  ...        0          0       0        0        0        0   \n",
       "99999        0  ...        0          0       0        0        0        0   \n",
       "\n",
       "       Sci_Fi  Thriller  War  Western  \n",
       "0           0         0    0        0  \n",
       "1           0         0    0        0  \n",
       "2           0         0    0        0  \n",
       "3           0         0    0        0  \n",
       "4           0         0    0        0  \n",
       "...       ...       ...  ...      ...  \n",
       "99995       0         0    0        0  \n",
       "99996       0         0    0        0  \n",
       "99997       0         0    0        0  \n",
       "99998       0         0    0        0  \n",
       "99999       0         0    0        0  \n",
       "\n",
       "[100000 rows x 28 columns]"
      ]
     },
     "execution_count": 158,
     "metadata": {},
     "output_type": "execute_result"
    }
   ],
   "source": [
    "mergeDf = pd.merge(ratingdf, itemdf, right_on='movie_id',left_on= 'item_id', how='inner')\n",
    "mergeDf"
   ]
  },
  {
   "cell_type": "code",
   "execution_count": 159,
   "metadata": {},
   "outputs": [],
   "source": [
    "genreList = ['unknown','Action','Adventure','Animation','Childrens','Comedy','Crime','Documentary','Drama','Fantasy','Film_Noir','Horror','Musical','Mystery','Romance','Sci_Fi','Thriller','War','Western']\n",
    "rating = []\n",
    "for g in genreList:\n",
    "    rating.append(len(mergeDf.query(g+'==1 & rating > 3')))"
   ]
  },
  {
   "cell_type": "code",
   "execution_count": 160,
   "metadata": {},
   "outputs": [
    {
     "data": {
      "image/png": "[encoded data removed]",
      "text/plain": [
       "<Figure size 576x360 with 1 Axes>"
      ]
     },
     "metadata": {
      "needs_background": "light"
     },
     "output_type": "display_data"
    }
   ],
   "source": [
    "plt.figure(figsize=(8, 5))\n",
    "plt.bar(genreList,rating)\n",
    "plt.xticks(genreList,  rotation='vertical')\n",
    "plt.title('Genres rated above 3')\n",
    "plt.xlabel('Genre')\n",
    "plt.ylabel('Counts of High Ratings')\n",
    "plt.show()"
   ]
  },
  {
   "cell_type": "code",
   "execution_count": null,
   "metadata": {},
   "outputs": [],
   "source": []
  },
  {
   "cell_type": "code",
   "execution_count": 161,
   "metadata": {},
   "outputs": [
    {
     "data": {
      "text/html": [
       "<div>\n",
       "<style scoped>\n",
       "    .dataframe tbody tr th:only-of-type {\n",
       "        vertical-align: middle;\n",
       "    }\n",
       "\n",
       "    .dataframe tbody tr th {\n",
       "        vertical-align: top;\n",
       "    }\n",
       "\n",
       "    .dataframe thead th {\n",
       "        text-align: right;\n",
       "    }\n",
       "</style>\n",
       "<table border=\"1\" class=\"dataframe\">\n",
       "  <thead>\n",
       "    <tr style=\"text-align: right;\">\n",
       "      <th></th>\n",
       "      <th>user_id</th>\n",
       "      <th>item_id</th>\n",
       "      <th>rating</th>\n",
       "      <th>timestamp</th>\n",
       "      <th>movie_id</th>\n",
       "      <th>movie_title</th>\n",
       "      <th>release_date</th>\n",
       "      <th>video_release_date</th>\n",
       "      <th>IMDb_URL</th>\n",
       "      <th>unknown</th>\n",
       "      <th>...</th>\n",
       "      <th>Mystery</th>\n",
       "      <th>Romance</th>\n",
       "      <th>Sci_Fi</th>\n",
       "      <th>Thriller</th>\n",
       "      <th>War</th>\n",
       "      <th>Western</th>\n",
       "      <th>age</th>\n",
       "      <th>gender</th>\n",
       "      <th>occupation</th>\n",
       "      <th>zip_code</th>\n",
       "    </tr>\n",
       "  </thead>\n",
       "  <tbody>\n",
       "    <tr>\n",
       "      <th>0</th>\n",
       "      <td>196</td>\n",
       "      <td>242</td>\n",
       "      <td>3</td>\n",
       "      <td>881250949</td>\n",
       "      <td>242</td>\n",
       "      <td>Kolya (1996)</td>\n",
       "      <td>24-Jan-1997</td>\n",
       "      <td>NaN</td>\n",
       "      <td>http://us.imdb.com/M/title-exact?Kolya%20(1996)</td>\n",
       "      <td>0</td>\n",
       "      <td>...</td>\n",
       "      <td>0</td>\n",
       "      <td>0</td>\n",
       "      <td>0</td>\n",
       "      <td>0</td>\n",
       "      <td>0</td>\n",
       "      <td>0</td>\n",
       "      <td>49</td>\n",
       "      <td>M</td>\n",
       "      <td>writer</td>\n",
       "      <td>55105</td>\n",
       "    </tr>\n",
       "    <tr>\n",
       "      <th>1</th>\n",
       "      <td>196</td>\n",
       "      <td>257</td>\n",
       "      <td>2</td>\n",
       "      <td>881251577</td>\n",
       "      <td>257</td>\n",
       "      <td>Men in Black (1997)</td>\n",
       "      <td>04-Jul-1997</td>\n",
       "      <td>NaN</td>\n",
       "      <td>http://us.imdb.com/M/title-exact?Men+in+Black+...</td>\n",
       "      <td>0</td>\n",
       "      <td>...</td>\n",
       "      <td>0</td>\n",
       "      <td>0</td>\n",
       "      <td>1</td>\n",
       "      <td>0</td>\n",
       "      <td>0</td>\n",
       "      <td>0</td>\n",
       "      <td>49</td>\n",
       "      <td>M</td>\n",
       "      <td>writer</td>\n",
       "      <td>55105</td>\n",
       "    </tr>\n",
       "    <tr>\n",
       "      <th>2</th>\n",
       "      <td>196</td>\n",
       "      <td>111</td>\n",
       "      <td>4</td>\n",
       "      <td>881251793</td>\n",
       "      <td>111</td>\n",
       "      <td>Truth About Cats &amp; Dogs, The (1996)</td>\n",
       "      <td>26-Apr-1996</td>\n",
       "      <td>NaN</td>\n",
       "      <td>http://us.imdb.com/M/title-exact?Truth%20About...</td>\n",
       "      <td>0</td>\n",
       "      <td>...</td>\n",
       "      <td>0</td>\n",
       "      <td>1</td>\n",
       "      <td>0</td>\n",
       "      <td>0</td>\n",
       "      <td>0</td>\n",
       "      <td>0</td>\n",
       "      <td>49</td>\n",
       "      <td>M</td>\n",
       "      <td>writer</td>\n",
       "      <td>55105</td>\n",
       "    </tr>\n",
       "    <tr>\n",
       "      <th>3</th>\n",
       "      <td>196</td>\n",
       "      <td>25</td>\n",
       "      <td>4</td>\n",
       "      <td>881251955</td>\n",
       "      <td>25</td>\n",
       "      <td>Birdcage, The (1996)</td>\n",
       "      <td>08-Mar-1996</td>\n",
       "      <td>NaN</td>\n",
       "      <td>http://us.imdb.com/M/title-exact?Birdcage,%20T...</td>\n",
       "      <td>0</td>\n",
       "      <td>...</td>\n",
       "      <td>0</td>\n",
       "      <td>0</td>\n",
       "      <td>0</td>\n",
       "      <td>0</td>\n",
       "      <td>0</td>\n",
       "      <td>0</td>\n",
       "      <td>49</td>\n",
       "      <td>M</td>\n",
       "      <td>writer</td>\n",
       "      <td>55105</td>\n",
       "    </tr>\n",
       "    <tr>\n",
       "      <th>4</th>\n",
       "      <td>196</td>\n",
       "      <td>382</td>\n",
       "      <td>4</td>\n",
       "      <td>881251843</td>\n",
       "      <td>382</td>\n",
       "      <td>Adventures of Priscilla, Queen of the Desert, ...</td>\n",
       "      <td>01-Jan-1994</td>\n",
       "      <td>NaN</td>\n",
       "      <td>http://us.imdb.com/M/title-exact?Adventures%20...</td>\n",
       "      <td>0</td>\n",
       "      <td>...</td>\n",
       "      <td>0</td>\n",
       "      <td>0</td>\n",
       "      <td>0</td>\n",
       "      <td>0</td>\n",
       "      <td>0</td>\n",
       "      <td>0</td>\n",
       "      <td>49</td>\n",
       "      <td>M</td>\n",
       "      <td>writer</td>\n",
       "      <td>55105</td>\n",
       "    </tr>\n",
       "    <tr>\n",
       "      <th>...</th>\n",
       "      <td>...</td>\n",
       "      <td>...</td>\n",
       "      <td>...</td>\n",
       "      <td>...</td>\n",
       "      <td>...</td>\n",
       "      <td>...</td>\n",
       "      <td>...</td>\n",
       "      <td>...</td>\n",
       "      <td>...</td>\n",
       "      <td>...</td>\n",
       "      <td>...</td>\n",
       "      <td>...</td>\n",
       "      <td>...</td>\n",
       "      <td>...</td>\n",
       "      <td>...</td>\n",
       "      <td>...</td>\n",
       "      <td>...</td>\n",
       "      <td>...</td>\n",
       "      <td>...</td>\n",
       "      <td>...</td>\n",
       "      <td>...</td>\n",
       "    </tr>\n",
       "    <tr>\n",
       "      <th>99995</th>\n",
       "      <td>873</td>\n",
       "      <td>313</td>\n",
       "      <td>5</td>\n",
       "      <td>891392177</td>\n",
       "      <td>313</td>\n",
       "      <td>Titanic (1997)</td>\n",
       "      <td>01-Jan-1997</td>\n",
       "      <td>NaN</td>\n",
       "      <td>http://us.imdb.com/M/title-exact?imdb-title-12...</td>\n",
       "      <td>0</td>\n",
       "      <td>...</td>\n",
       "      <td>0</td>\n",
       "      <td>1</td>\n",
       "      <td>0</td>\n",
       "      <td>0</td>\n",
       "      <td>0</td>\n",
       "      <td>0</td>\n",
       "      <td>48</td>\n",
       "      <td>F</td>\n",
       "      <td>administrator</td>\n",
       "      <td>33763</td>\n",
       "    </tr>\n",
       "    <tr>\n",
       "      <th>99996</th>\n",
       "      <td>873</td>\n",
       "      <td>326</td>\n",
       "      <td>4</td>\n",
       "      <td>891392656</td>\n",
       "      <td>326</td>\n",
       "      <td>G.I. Jane (1997)</td>\n",
       "      <td>01-Jan-1997</td>\n",
       "      <td>NaN</td>\n",
       "      <td>http://us.imdb.com/M/title-exact?G%2EI%2E+Jane...</td>\n",
       "      <td>0</td>\n",
       "      <td>...</td>\n",
       "      <td>0</td>\n",
       "      <td>0</td>\n",
       "      <td>0</td>\n",
       "      <td>0</td>\n",
       "      <td>1</td>\n",
       "      <td>0</td>\n",
       "      <td>48</td>\n",
       "      <td>F</td>\n",
       "      <td>administrator</td>\n",
       "      <td>33763</td>\n",
       "    </tr>\n",
       "    <tr>\n",
       "      <th>99997</th>\n",
       "      <td>873</td>\n",
       "      <td>348</td>\n",
       "      <td>3</td>\n",
       "      <td>891392577</td>\n",
       "      <td>348</td>\n",
       "      <td>Desperate Measures (1998)</td>\n",
       "      <td>30-Jan-1998</td>\n",
       "      <td>NaN</td>\n",
       "      <td>http://us.imdb.com/Title?Desperate+Measures+(1...</td>\n",
       "      <td>0</td>\n",
       "      <td>...</td>\n",
       "      <td>0</td>\n",
       "      <td>0</td>\n",
       "      <td>0</td>\n",
       "      <td>1</td>\n",
       "      <td>0</td>\n",
       "      <td>0</td>\n",
       "      <td>48</td>\n",
       "      <td>F</td>\n",
       "      <td>administrator</td>\n",
       "      <td>33763</td>\n",
       "    </tr>\n",
       "    <tr>\n",
       "      <th>99998</th>\n",
       "      <td>873</td>\n",
       "      <td>358</td>\n",
       "      <td>2</td>\n",
       "      <td>891392698</td>\n",
       "      <td>358</td>\n",
       "      <td>Spawn (1997)</td>\n",
       "      <td>01-Aug-1997</td>\n",
       "      <td>NaN</td>\n",
       "      <td>http://us.imdb.com/M/title-exact?Spawn+(1997/I)</td>\n",
       "      <td>0</td>\n",
       "      <td>...</td>\n",
       "      <td>0</td>\n",
       "      <td>0</td>\n",
       "      <td>1</td>\n",
       "      <td>1</td>\n",
       "      <td>0</td>\n",
       "      <td>0</td>\n",
       "      <td>48</td>\n",
       "      <td>F</td>\n",
       "      <td>administrator</td>\n",
       "      <td>33763</td>\n",
       "    </tr>\n",
       "    <tr>\n",
       "      <th>99999</th>\n",
       "      <td>873</td>\n",
       "      <td>342</td>\n",
       "      <td>4</td>\n",
       "      <td>891392698</td>\n",
       "      <td>342</td>\n",
       "      <td>Man Who Knew Too Little, The (1997)</td>\n",
       "      <td>01-Jan-1997</td>\n",
       "      <td>NaN</td>\n",
       "      <td>http://us.imdb.com/M/title-exact?Man+Who+Knew+...</td>\n",
       "      <td>0</td>\n",
       "      <td>...</td>\n",
       "      <td>1</td>\n",
       "      <td>0</td>\n",
       "      <td>0</td>\n",
       "      <td>0</td>\n",
       "      <td>0</td>\n",
       "      <td>0</td>\n",
       "      <td>48</td>\n",
       "      <td>F</td>\n",
       "      <td>administrator</td>\n",
       "      <td>33763</td>\n",
       "    </tr>\n",
       "  </tbody>\n",
       "</table>\n",
       "<p>100000 rows × 32 columns</p>\n",
       "</div>"
      ],
      "text/plain": [
       "       user_id  item_id  rating  timestamp  movie_id  \\\n",
       "0          196      242       3  881250949       242   \n",
       "1          196      257       2  881251577       257   \n",
       "2          196      111       4  881251793       111   \n",
       "3          196       25       4  881251955        25   \n",
       "4          196      382       4  881251843       382   \n",
       "...        ...      ...     ...        ...       ...   \n",
       "99995      873      313       5  891392177       313   \n",
       "99996      873      326       4  891392656       326   \n",
       "99997      873      348       3  891392577       348   \n",
       "99998      873      358       2  891392698       358   \n",
       "99999      873      342       4  891392698       342   \n",
       "\n",
       "                                             movie_title release_date  \\\n",
       "0                                           Kolya (1996)  24-Jan-1997   \n",
       "1                                    Men in Black (1997)  04-Jul-1997   \n",
       "2                    Truth About Cats & Dogs, The (1996)  26-Apr-1996   \n",
       "3                                   Birdcage, The (1996)  08-Mar-1996   \n",
       "4      Adventures of Priscilla, Queen of the Desert, ...  01-Jan-1994   \n",
       "...                                                  ...          ...   \n",
       "99995                                     Titanic (1997)  01-Jan-1997   \n",
       "99996                                   G.I. Jane (1997)  01-Jan-1997   \n",
       "99997                          Desperate Measures (1998)  30-Jan-1998   \n",
       "99998                                       Spawn (1997)  01-Aug-1997   \n",
       "99999                Man Who Knew Too Little, The (1997)  01-Jan-1997   \n",
       "\n",
       "       video_release_date                                           IMDb_URL  \\\n",
       "0                     NaN    http://us.imdb.com/M/title-exact?Kolya%20(1996)   \n",
       "1                     NaN  http://us.imdb.com/M/title-exact?Men+in+Black+...   \n",
       "2                     NaN  http://us.imdb.com/M/title-exact?Truth%20About...   \n",
       "3                     NaN  http://us.imdb.com/M/title-exact?Birdcage,%20T...   \n",
       "4                     NaN  http://us.imdb.com/M/title-exact?Adventures%20...   \n",
       "...                   ...                                                ...   \n",
       "99995                 NaN  http://us.imdb.com/M/title-exact?imdb-title-12...   \n",
       "99996                 NaN  http://us.imdb.com/M/title-exact?G%2EI%2E+Jane...   \n",
       "99997                 NaN  http://us.imdb.com/Title?Desperate+Measures+(1...   \n",
       "99998                 NaN    http://us.imdb.com/M/title-exact?Spawn+(1997/I)   \n",
       "99999                 NaN  http://us.imdb.com/M/title-exact?Man+Who+Knew+...   \n",
       "\n",
       "       unknown  ...  Mystery  Romance  Sci_Fi  Thriller  War  Western  age  \\\n",
       "0            0  ...        0        0       0         0    0        0   49   \n",
       "1            0  ...        0        0       1         0    0        0   49   \n",
       "2            0  ...        0        1       0         0    0        0   49   \n",
       "3            0  ...        0        0       0         0    0        0   49   \n",
       "4            0  ...        0        0       0         0    0        0   49   \n",
       "...        ...  ...      ...      ...     ...       ...  ...      ...  ...   \n",
       "99995        0  ...        0        1       0         0    0        0   48   \n",
       "99996        0  ...        0        0       0         0    1        0   48   \n",
       "99997        0  ...        0        0       0         1    0        0   48   \n",
       "99998        0  ...        0        0       1         1    0        0   48   \n",
       "99999        0  ...        1        0       0         0    0        0   48   \n",
       "\n",
       "       gender     occupation  zip_code  \n",
       "0           M         writer     55105  \n",
       "1           M         writer     55105  \n",
       "2           M         writer     55105  \n",
       "3           M         writer     55105  \n",
       "4           M         writer     55105  \n",
       "...       ...            ...       ...  \n",
       "99995       F  administrator     33763  \n",
       "99996       F  administrator     33763  \n",
       "99997       F  administrator     33763  \n",
       "99998       F  administrator     33763  \n",
       "99999       F  administrator     33763  \n",
       "\n",
       "[100000 rows x 32 columns]"
      ]
     },
     "execution_count": 161,
     "metadata": {},
     "output_type": "execute_result"
    }
   ],
   "source": [
    "mergeUserDf = pd.merge(mergeDf, userdf, on= 'user_id', how='inner')\n",
    "mergeUserDf"
   ]
  },
  {
   "cell_type": "code",
   "execution_count": 188,
   "metadata": {},
   "outputs": [
    {
     "data": {
      "text/plain": [
       "{'0-9': 'Comedy',\n",
       " '10-19': 'Drama',\n",
       " '20-29': 'Drama',\n",
       " '30-39': 'Drama',\n",
       " '40-49': 'Drama',\n",
       " '50-100': 'Drama'}"
      ]
     },
     "execution_count": 188,
     "metadata": {},
     "output_type": "execute_result"
    }
   ],
   "source": [
    "groupRating ={}\n",
    "ageGroups =['0-9','10-19','20-29','30-39','40-49','50-100']\n",
    "ageGroupsGenre = {}\n",
    "for a in ageGroups :\n",
    "    \n",
    "    for g in genreList:\n",
    "        queryStr =g+'==1 & rating >3 and age>='+a.split('-')[0]+' & age<='+a.split('-')[1]+''\n",
    "        groupRating.update({g:len(mergeUserDf.query(queryStr))})\n",
    "    bestGenre = max(groupRating.items(), key=operator.itemgetter(1))[0]\n",
    "    ageGroupsGenre.update({a:bestGenre})\n",
    "ageGroupsGenre"
   ]
  },
  {
   "cell_type": "code",
   "execution_count": 184,
   "metadata": {},
   "outputs": [
    {
     "data": {
      "text/plain": [
       "{'unknown': 0,\n",
       " 'Action': 500,\n",
       " 'Adventure': 270,\n",
       " 'Animation': 54,\n",
       " 'Childrens': 100,\n",
       " 'Comedy': 560,\n",
       " 'Crime': 241,\n",
       " 'Documentary': 23,\n",
       " 'Drama': 1315,\n",
       " 'Fantasy': 23,\n",
       " 'Film_Noir': 104,\n",
       " 'Horror': 80,\n",
       " 'Musical': 108,\n",
       " 'Mystery': 212,\n",
       " 'Romance': 507,\n",
       " 'Sci_Fi': 261,\n",
       " 'Thriller': 492,\n",
       " 'War': 430,\n",
       " 'Western': 69}"
      ]
     },
     "execution_count": 184,
     "metadata": {},
     "output_type": "execute_result"
    }
   ],
   "source": [
    "groupRating"
   ]
  },
  {
   "cell_type": "markdown",
   "metadata": {},
   "source": [
    "## Exercise 2: Implementing basic matrix factorization (MF) technique for recommender systems"
   ]
  },
  {
   "cell_type": "code",
   "execution_count": 240,
   "metadata": {},
   "outputs": [
    {
     "data": {
      "text/plain": [
       "943"
      ]
     },
     "execution_count": 240,
     "metadata": {},
     "output_type": "execute_result"
    }
   ],
   "source": [
    "userIds = userdf['user_id'].unique()\n",
    "len(userIds)\n"
   ]
  },
  {
   "cell_type": "code",
   "execution_count": 241,
   "metadata": {},
   "outputs": [
    {
     "data": {
      "text/plain": [
       "1682"
      ]
     },
     "execution_count": 241,
     "metadata": {},
     "output_type": "execute_result"
    }
   ],
   "source": [
    "itemIds = itemdf['movie_id'].unique()\n",
    "len(itemIds)"
   ]
  },
  {
   "cell_type": "code",
   "execution_count": 242,
   "metadata": {},
   "outputs": [],
   "source": [
    "ratingMatrix = np.zeros(shape=(len(userIds),len(itemIds)))\n",
    "for u in userIds:\n",
    "    for i in itemIds:\n",
    "        rating = ratingdf[(ratingdf.user_id == u) & (ratingdf.item_id == i)]['rating']\n",
    "        if(len(rating)>0):\n",
    "            ratingMatrix[u-1][i-1] = rating.values[0]\n",
    "        \n",
    "    \n",
    "\n",
    "        \n",
    "    \n"
   ]
  },
  {
   "cell_type": "code",
   "execution_count": 481,
   "metadata": {},
   "outputs": [
    {
     "data": {
      "text/plain": [
       "array([[5., 3., 4., ..., 0., 0., 0.],\n",
       "       [4., 0., 0., ..., 0., 0., 0.],\n",
       "       [0., 0., 0., ..., 0., 0., 0.],\n",
       "       ...,\n",
       "       [5., 0., 0., ..., 0., 0., 0.],\n",
       "       [0., 0., 0., ..., 0., 0., 0.],\n",
       "       [0., 5., 0., ..., 0., 0., 0.]])"
      ]
     },
     "execution_count": 481,
     "metadata": {},
     "output_type": "execute_result"
    }
   ],
   "source": [
    "ratingMatrix"
   ]
  },
  {
   "cell_type": "code",
   "execution_count": 427,
   "metadata": {},
   "outputs": [],
   "source": [
    "rtest = np.array([[10,2,3],[3,4,5]])"
   ]
  },
  {
   "cell_type": "code",
   "execution_count": 490,
   "metadata": {},
   "outputs": [],
   "source": [
    "def NormalizeData(data):\n",
    "    return (data - np.min(data)) / (np.max(data) - np.min(data))"
   ]
  },
  {
   "cell_type": "code",
   "execution_count": 525,
   "metadata": {},
   "outputs": [
    {
     "data": {
      "text/plain": [
       "array([[1. , 0.6, 0.8, ..., 0. , 0. , 0. ],\n",
       "       [0.8, 0. , 0. , ..., 0. , 0. , 0. ],\n",
       "       [0. , 0. , 0. , ..., 0. , 0. , 0. ],\n",
       "       ...,\n",
       "       [1. , 0. , 0. , ..., 0. , 0. , 0. ],\n",
       "       [0. , 0. , 0. , ..., 0. , 0. , 0. ],\n",
       "       [0. , 1. , 0. , ..., 0. , 0. , 0. ]])"
      ]
     },
     "execution_count": 525,
     "metadata": {},
     "output_type": "execute_result"
    }
   ],
   "source": [
    "ratingM = NormalizeData(ratingMatrix)\n",
    "ratingM"
   ]
  },
  {
   "cell_type": "code",
   "execution_count": 526,
   "metadata": {},
   "outputs": [
    {
     "data": {
      "text/plain": [
       "True"
      ]
     },
     "execution_count": 526,
     "metadata": {},
     "output_type": "execute_result"
    }
   ],
   "source": [
    "rtrain = ratingM[0:math.floor(len(ratingM)*0.7)]\n",
    "rValidation = ratingM[math.floor(len(ratingM)*0.70):math.floor(len(ratingM)*0.85)]\n",
    "rtest = ratingM[math.floor(len(ratingM)*0.85):]\n",
    "len(rtrain)+len(rValidation)+len(nds_test) == len(ratingM)"
   ]
  },
  {
   "cell_type": "code",
   "execution_count": 569,
   "metadata": {},
   "outputs": [],
   "source": [
    "def learnLatentFactors(R ,lamda,alpha,K,epox):\n",
    "    r,c = R.shape\n",
    "    mu, sigma = 1, 0.1 # mean and standard deviation\n",
    "    P = np.random.normal(mu, sigma, size=(r, K))\n",
    "    Q = np.random.normal(mu, sigma, size=(K, c))\n",
    "    rmseList = []\n",
    "    for e in range (epox):\n",
    "        E = 0\n",
    "        for i in range(r):\n",
    "            for j in range(c):\n",
    "                if(R[i, j] > 0):\n",
    "                    E = R[i, j] - np.dot(P[i,:],Q[:,j])\n",
    "                    for k in range (K):\n",
    "                        P[i,k] = P[i,k] + alpha*((E*Q[k,j])-(lamda*P[i,k]))\n",
    "                        Q[k,j] = Q[k,j] + alpha*((E*P[i,k])-(lamda*Q[k,j]))\n",
    "        r_hat= np.dot(P, Q)\n",
    "        rmseList.append(np.sqrt(np.square(np.subtract(R,r_hat))).mean(axis=None))\n",
    "    return P,Q,rmseList\n",
    "    "
   ]
  },
  {
   "cell_type": "code",
   "execution_count": 579,
   "metadata": {},
   "outputs": [
    {
     "name": "stdout",
     "output_type": "stream",
     "text": [
      "Wall time: 8min 25s\n"
     ]
    }
   ],
   "source": [
    "%%time\n",
    "pMat,qMat,rmseListTrain = learnLatentFactors(rtrain,0.8,0.01,3,500)"
   ]
  },
  {
   "cell_type": "code",
   "execution_count": 580,
   "metadata": {},
   "outputs": [
    {
     "data": {
      "text/plain": [
       "array([[1.37515921e-04, 1.34522469e-04, 1.33280173e-04],\n",
       "       [1.34749843e-04, 1.31389384e-04, 1.30443082e-04],\n",
       "       [9.83111080e-05, 9.45392707e-05, 9.41540685e-05],\n",
       "       ...,\n",
       "       [1.35906108e-04, 1.33159156e-04, 1.31827060e-04],\n",
       "       [1.31230337e-04, 1.28675852e-04, 1.27449493e-04],\n",
       "       [7.69157552e-05, 7.51177194e-05, 7.45757787e-05]])"
      ]
     },
     "execution_count": 580,
     "metadata": {},
     "output_type": "execute_result"
    }
   ],
   "source": [
    "pMat"
   ]
  },
  {
   "cell_type": "code",
   "execution_count": 581,
   "metadata": {},
   "outputs": [
    {
     "data": {
      "text/plain": [
       "array([[1.36832161e-04, 1.57957557e-04, 1.06620972e-04, ...,\n",
       "        8.88654194e-01, 1.13115016e+00, 1.01827904e+00],\n",
       "       [1.33963209e-04, 1.54567849e-04, 1.02635619e-04, ...,\n",
       "        9.93368037e-01, 1.01672895e+00, 8.94825312e-01],\n",
       "       [1.32196019e-04, 1.52574646e-04, 1.02723414e-04, ...,\n",
       "        8.89010904e-01, 9.77236385e-01, 9.24175566e-01]])"
      ]
     },
     "execution_count": 581,
     "metadata": {},
     "output_type": "execute_result"
    }
   ],
   "source": [
    "qMat"
   ]
  },
  {
   "cell_type": "code",
   "execution_count": 582,
   "metadata": {},
   "outputs": [],
   "source": [
    "r_new = np.dot(pMat, qMat)"
   ]
  },
  {
   "cell_type": "code",
   "execution_count": 583,
   "metadata": {},
   "outputs": [
    {
     "data": {
      "text/plain": [
       "array([[5.44567706e-08, 6.28497028e-08, 4.21598725e-08, ...,\n",
       "        3.74321948e-04, 4.22570279e-04, 3.83577969e-04],\n",
       "       [5.32835118e-08, 6.14956374e-08, 4.12519487e-08, ...,\n",
       "        3.66229349e-04, 4.13483422e-04, 3.75335796e-04],\n",
       "       [3.85636985e-08, 4.45072378e-08, 2.98569499e-08, ...,\n",
       "        2.64980862e-04, 2.99336221e-04, 2.71719162e-04],\n",
       "       ...,\n",
       "       [5.38617668e-08, 6.21629880e-08, 4.16990394e-08, ...,\n",
       "        3.70245275e-04, 4.17943184e-04, 3.79375871e-04],\n",
       "       [5.20426763e-08, 6.00635344e-08, 4.02906789e-08, ...,\n",
       "        3.57744857e-04, 4.03817962e-04, 3.66557218e-04],\n",
       "       [3.04461808e-08, 3.51385821e-08, 2.35712648e-08, ...,\n",
       "        2.09269730e-04, 2.36255793e-04, 2.14460050e-04]])"
      ]
     },
     "execution_count": 583,
     "metadata": {},
     "output_type": "execute_result"
    }
   ],
   "source": [
    "r_new"
   ]
  },
  {
   "cell_type": "code",
   "execution_count": 584,
   "metadata": {},
   "outputs": [],
   "source": [
    "def kFoldCrossValitaion(R,lamda,alpha,K,split):\n",
    "    chunkSize = int(np.floor(len(R)/split))\n",
    "    meanAcc =0\n",
    "    accLogList = []\n",
    "\n",
    "    for i in range (split):\n",
    "        pMat,qMat,rmseLists = learnLatentFactors(R,lamda,alpha,K,10)\n",
    "        index = list(range(i*chunkSize,(i*chunkSize)+chunkSize))\n",
    "        \n",
    "        # for test data\n",
    "        pMat_test = np.delete(pMat,index,0)\n",
    "        r_test = np.delete(R,index,0)\n",
    "    \n",
    "        r_hat_test = np.dot(pMat_test, qMat)\n",
    "        rmse = np.sqrt(np.square(np.subtract(r_test,r_hat_test))).mean(axis=None)\n",
    "        meanAcc += rmse\n",
    "        \n",
    "    return (meanAcc/split)"
   ]
  },
  {
   "cell_type": "code",
   "execution_count": 585,
   "metadata": {},
   "outputs": [
    {
     "name": "stdout",
     "output_type": "stream",
     "text": [
      "Wall time: 25min 53s\n"
     ]
    }
   ],
   "source": [
    "%%time\n",
    "aplha =[0.005,0.008,0.015]\n",
    "lamda = [0.4,0.7,0.9]\n",
    "k_dimension = [3,4,5]\n",
    "grid =list(itertools.product(itertools.product(aplha, lamda),k_dimension))\n",
    "\n",
    "meanList =[]\n",
    "for (alpha,lamda),K_d in grid:\n",
    "    \n",
    "    meanError = kFoldCrossValitaion(rtrain,lamda,alpha,K_d,5)\n",
    "    \n",
    "    meanList.append(list([meanError,µ,lamda,K_d]))"
   ]
  },
  {
   "cell_type": "code",
   "execution_count": 586,
   "metadata": {},
   "outputs": [
    {
     "name": "stdout",
     "output_type": "stream",
     "text": [
      "The best parameters are: Lamda = 0.001000,alpha = 0.900000,latent Dimension K = 3 \n"
     ]
    }
   ],
   "source": [
    "minRmse,bestLamda,bestAlpha,bestK = min(meanList)\n",
    "print(\"The best parameters are: Lamda = %f,alpha = %f,latent Dimension K = %i \" % (bestLamda,bestAlpha,bestK))"
   ]
  },
  {
   "cell_type": "markdown",
   "metadata": {},
   "source": [
    "## For Train RMSE"
   ]
  },
  {
   "cell_type": "code",
   "execution_count": 613,
   "metadata": {},
   "outputs": [
    {
     "name": "stdout",
     "output_type": "stream",
     "text": [
      "Validation Set RMSE: 0.9631918924427567\n",
      "Wall time: 2min 6s\n"
     ]
    }
   ],
   "source": [
    "%%time\n",
    "pMat,qMat,rmseListTrain = learnLatentFactors(rtrain,bestLamda,bestAlpha,bestK,100)\n",
    "r_hat = np.dot(pMat, qMat)\n",
    "rmse = np.sqrt(np.square(np.subtract(rtrain,r_hat))).mean(axis=None)\n",
    "print('Validation Set RMSE:',rmse)"
   ]
  },
  {
   "cell_type": "markdown",
   "metadata": {},
   "source": [
    "## For Validation RMSE"
   ]
  },
  {
   "cell_type": "code",
   "execution_count": 614,
   "metadata": {},
   "outputs": [
    {
     "name": "stdout",
     "output_type": "stream",
     "text": [
      "Validation Set RMSE: 0.7683997374142078\n",
      "Wall time: 24.7 s\n"
     ]
    }
   ],
   "source": [
    "%%time\n",
    "pMat,qMat,rmseListVal = learnLatentFactors(rValidation,bestLamda,bestAlpha,bestK,100)\n",
    "r_hat = np.dot(pMat, qMat)\n",
    "rmse = np.sqrt(np.square(np.subtract(rValidation,r_hat))).mean(axis=None)\n",
    "print('Validation Set RMSE:',rmse)"
   ]
  },
  {
   "cell_type": "markdown",
   "metadata": {},
   "source": [
    "## For Test RMSE"
   ]
  },
  {
   "cell_type": "code",
   "execution_count": 615,
   "metadata": {},
   "outputs": [
    {
     "name": "stdout",
     "output_type": "stream",
     "text": [
      "Test Set RMSE: 0.7671975685484357\n",
      "Wall time: 27.1 s\n"
     ]
    }
   ],
   "source": [
    "%%time\n",
    "pMat,qMat,rmseListTest = learnLatentFactors(rtest,bestLamda,bestAlpha,bestK,100)\n",
    "r_hat = np.dot(pMat, qMat)\n",
    "rmse = np.sqrt(np.square(np.subtract(rtest,r_hat))).mean(axis=None)\n",
    "print('Test Set RMSE:',rmse)"
   ]
  },
  {
   "cell_type": "code",
   "execution_count": 618,
   "metadata": {},
   "outputs": [
    {
     "data": {
      "image/png": "[encoded data removed]",
      "text/plain": [
       "<Figure size 432x288 with 1 Axes>"
      ]
     },
     "metadata": {
      "needs_background": "light"
     },
     "output_type": "display_data"
    },
    {
     "name": "stdout",
     "output_type": "stream",
     "text": [
      "Wall time: 96.9 ms\n"
     ]
    }
   ],
   "source": [
    "%%time\n",
    "fig = plt.rmseListTrainize=(14,10)\n",
    "ax = plt.axes()\n",
    "\n",
    "ax.plot(rmseListTrain[:100],label='train')\n",
    "ax.plot(rmseListVal,label='Validation')\n",
    "ax.plot(rmseListTest,label='test')\n",
    "ax.set_xlabel('Iterations')\n",
    "ax.set_ylabel('RMSE')\n",
    "ax.legend()\n",
    "plt.show()\n",
    "\n",
    "\n"
   ]
  },
  {
   "cell_type": "markdown",
   "metadata": {},
   "source": [
    "## Exercise 3: Recommender Systems using matrix factorization sckitlearn"
   ]
  },
  {
   "cell_type": "code",
   "execution_count": 590,
   "metadata": {},
   "outputs": [],
   "source": [
    "def kFoldCrossValitaionSklearn(R,lamda,alpha,K,split):\n",
    "    chunkSize = int(np.floor(len(R)/split))\n",
    "    meanAcc =0\n",
    "    accLogList = []\n",
    "\n",
    "    for i in range (split):\n",
    "        model = NMF(n_components=K, init='random', alpha=alpha,l1_ratio=lamda,random_state=0,solver='cd')\n",
    "        pMat = model.fit_transform(R);\n",
    "        qMat = model.components_;\n",
    "\n",
    "        index = list(range(i*chunkSize,(i*chunkSize)+chunkSize))\n",
    "        \n",
    "        # for test data\n",
    "        pMat_test = np.delete(pMat,index,0)\n",
    "        r_test = np.delete(R,index,0)\n",
    "    \n",
    "        r_hat_test = np.dot(pMat_test, qMat)\n",
    "        rmse = np.sqrt(np.square(np.subtract(r_test,r_hat_test))).mean(axis=None)\n",
    "        meanAcc += rmse\n",
    "        \n",
    "    return (meanAcc/split)"
   ]
  },
  {
   "cell_type": "code",
   "execution_count": 591,
   "metadata": {},
   "outputs": [
    {
     "name": "stdout",
     "output_type": "stream",
     "text": [
      "Wall time: 14.5 s\n"
     ]
    }
   ],
   "source": [
    "%%time\n",
    "aplha =[10**(-6),10**(-7),10**(-8)]\n",
    "lamda = [10**(-3),10**(-4),10**(-5)]\n",
    "k_dimension = [3,4,5]\n",
    "grid =list(itertools.product(itertools.product(aplha, lamda),k_dimension))\n",
    "\n",
    "meanList =[]\n",
    "for (alpha,lamda),K_d in grid:\n",
    "    \n",
    "    meanError = kFoldCrossValitaionSklearn(rtrain,lamda,alpha,K_d,5)\n",
    "    \n",
    "    meanList.append(list([meanError,µ,lamda,K_d]))"
   ]
  },
  {
   "cell_type": "code",
   "execution_count": 592,
   "metadata": {},
   "outputs": [
    {
     "name": "stdout",
     "output_type": "stream",
     "text": [
      "The best parameters are: Lamda = 0.001000,alpha = 0.001000,latent Dimension K = 5 \n"
     ]
    }
   ],
   "source": [
    "minRmse,bestLamda,bestAlpha,bestK = min(meanList)\n",
    "print(\"The best parameters are: Lamda = %f,alpha = %f,latent Dimension K = %i \" % (bestLamda,bestAlpha,bestK))"
   ]
  },
  {
   "cell_type": "markdown",
   "metadata": {},
   "source": [
    "## For Validation RMSE"
   ]
  },
  {
   "cell_type": "code",
   "execution_count": 593,
   "metadata": {},
   "outputs": [
    {
     "name": "stdout",
     "output_type": "stream",
     "text": [
      "Validation Set RMSE: 0.04762047130965496\n"
     ]
    }
   ],
   "source": [
    "model = NMF(n_components=bestK, init='random', alpha=bestAlpha,l1_ratio=bestLamda,random_state=0,solver='cd')\n",
    "pMat = model.fit_transform(rValidation);\n",
    "qMat = model.components_;\n",
    "r_hat = np.dot(pMat, qMat)\n",
    "rmse = np.sqrt(np.square(np.subtract(rValidation,r_hat))).mean(axis=None)\n",
    "print('Validation Set RMSE:',rmse)"
   ]
  },
  {
   "cell_type": "markdown",
   "metadata": {},
   "source": [
    "## For Test RMSE"
   ]
  },
  {
   "cell_type": "code",
   "execution_count": 594,
   "metadata": {},
   "outputs": [
    {
     "name": "stdout",
     "output_type": "stream",
     "text": [
      "Test Set RMSE: 0.05559738401334793\n"
     ]
    }
   ],
   "source": [
    "model = NMF(n_components=bestK, init='random', alpha=bestAlpha,l1_ratio=bestLamda,random_state=0,solver='cd')\n",
    "pMat = model.fit_transform(rtest);\n",
    "qMat = model.components_;\n",
    "r_hat = np.dot(pMat, qMat)\n",
    "rmse = np.sqrt(np.square(np.subtract(rtest,r_hat))).mean(axis=None)\n",
    "print('Test Set RMSE:',rmse)"
   ]
  },
  {
   "cell_type": "markdown",
   "metadata": {},
   "source": [
    "As seen with scikit-learn, rmse is better on all the dataset than on my implemention. So it is useful to use scikit learn library."
   ]
  },
  {
   "cell_type": "code",
   "execution_count": null,
   "metadata": {},
   "outputs": [],
   "source": []
  }
 ],
 "metadata": {
  "kernelspec": {
   "display_name": "Python 3",
   "language": "python",
   "name": "python3"
  },
  "language_info": {
   "codemirror_mode": {
    "name": "ipython",
    "version": 3
   },
   "file_extension": ".py",
   "mimetype": "text/x-python",
   "name": "python",
   "nbconvert_exporter": "python",
   "pygments_lexer": "ipython3",
   "version": "3.8.5"
  }
 },
 "nbformat": 4,
 "nbformat_minor": 4
}
